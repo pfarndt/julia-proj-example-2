{
 "cells": [
  {
   "cell_type": "code",
   "execution_count": 1,
   "metadata": {},
   "outputs": [
    {
     "name": "stdout",
     "output_type": "stream",
     "text": [
      "Notebook:           /home/arndt/tmp/julia-proj-example/Folder1/Notebook1.ipynb\n",
      "Current directory:  /home/arndt/tmp/julia-proj-example/Folder1\n",
      "Hostname:           elcattivo.molgen.mpg.de\n",
      "PID:                106450 (in Jupyter)\n",
      "Username:           arndt\n",
      "Julia version:      1.9.2\n",
      "Julia environment:  /home/arndt/tmp/julia-proj-example/Project.toml\n",
      "Date:               2023-08-03T15:10:29.723\n"
     ]
    }
   ],
   "source": [
    "using NotebookHelper\n",
    "NotebookHelper.setup(\"e1a06210-73e4-419b-bdf5-531ceeaa9e84\")"
   ]
  },
  {
   "cell_type": "code",
   "execution_count": 4,
   "metadata": {},
   "outputs": [
    {
     "name": "stderr",
     "output_type": "stream",
     "text": [
      "\u001b[36m\u001b[1m[ \u001b[22m\u001b[39m\u001b[36m\u001b[1mInfo: \u001b[22m\u001b[39mPrecompiling MyLocalModule [36086f27-3d52-464e-ad5e-c1fb06cdad17]\n"
     ]
    }
   ],
   "source": [
    "using MyLocalModule"
   ]
  },
  {
   "cell_type": "code",
   "execution_count": 5,
   "metadata": {},
   "outputs": [
    {
     "name": "stdout",
     "output_type": "stream",
     "text": [
      "Hello World!"
     ]
    }
   ],
   "source": [
    "MyLocalModule.greet()"
   ]
  },
  {
   "cell_type": "code",
   "execution_count": null,
   "metadata": {},
   "outputs": [],
   "source": []
  }
 ],
 "metadata": {
  "kernelspec": {
   "display_name": "Julia (4 threads) 1.9.2",
   "language": "julia",
   "name": "julia-4threads-1.9"
  },
  "language_info": {
   "file_extension": ".jl",
   "mimetype": "application/julia",
   "name": "julia",
   "version": "1.9.2"
  }
 },
 "nbformat": 4,
 "nbformat_minor": 4
}
